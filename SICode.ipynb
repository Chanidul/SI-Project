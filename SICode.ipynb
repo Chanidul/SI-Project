{
 "cells": [
  {
   "cell_type": "code",
   "execution_count": 1,
   "metadata": {},
   "outputs": [],
   "source": [
    "# Import required libraries\n",
    "\n",
    "import pandas as pd\n",
    "import numpy as np\n",
    "from matplotlib.ticker import AutoMinorLocator\n",
    "import seaborn as sns\n",
    "import matplotlib.pyplot as plt\n",
    "\n",
    "import matplotlib.ticker as mticker\n",
    "\n",
    "import calendar\n",
    "from parser import ParserError\n",
    "import matplotlib.dates as mdates\n",
    "from sklearn import preprocessing\n",
    "import math\n"
   ]
  },
  {
   "cell_type": "code",
   "execution_count": 2,
   "metadata": {},
   "outputs": [
    {
     "data": {
      "text/html": [
       "<div>\n",
       "<style scoped>\n",
       "    .dataframe tbody tr th:only-of-type {\n",
       "        vertical-align: middle;\n",
       "    }\n",
       "\n",
       "    .dataframe tbody tr th {\n",
       "        vertical-align: top;\n",
       "    }\n",
       "\n",
       "    .dataframe thead th {\n",
       "        text-align: right;\n",
       "    }\n",
       "</style>\n",
       "<table border=\"1\" class=\"dataframe\">\n",
       "  <thead>\n",
       "    <tr style=\"text-align: right;\">\n",
       "      <th></th>\n",
       "      <th>Timestamp</th>\n",
       "      <th>Username</th>\n",
       "      <th>Mobile Number</th>\n",
       "      <th>email</th>\n",
       "      <th>Birth day</th>\n",
       "      <th>Gender</th>\n",
       "      <th>agegroup</th>\n",
       "      <th>hometown</th>\n",
       "      <th>industry</th>\n",
       "      <th>Education</th>\n",
       "      <th>...</th>\n",
       "      <th>tr-type</th>\n",
       "      <th>convenenience</th>\n",
       "      <th>frequency</th>\n",
       "      <th>withdrawal</th>\n",
       "      <th>sourceofinfo</th>\n",
       "      <th>knowledge</th>\n",
       "      <th>mobilephone</th>\n",
       "      <th>atm</th>\n",
       "      <th>internet</th>\n",
       "      <th>pos</th>\n",
       "    </tr>\n",
       "  </thead>\n",
       "  <tbody>\n",
       "    <tr>\n",
       "      <th>0</th>\n",
       "      <td>2020/11/29 11:44:46 AM GMT+5:30</td>\n",
       "      <td>cmandawala@yahoo.com</td>\n",
       "      <td>702758536</td>\n",
       "      <td>NaN</td>\n",
       "      <td>2020-11-29</td>\n",
       "      <td>Male</td>\n",
       "      <td>25-35</td>\n",
       "      <td>Piliyandala</td>\n",
       "      <td>manufacturing</td>\n",
       "      <td>Degree</td>\n",
       "      <td>...</td>\n",
       "      <td>Online shopping</td>\n",
       "      <td>4.0</td>\n",
       "      <td>Monthly-once</td>\n",
       "      <td>ATM</td>\n",
       "      <td>Bank directly</td>\n",
       "      <td>7.0</td>\n",
       "      <td>High</td>\n",
       "      <td>Medium</td>\n",
       "      <td>High</td>\n",
       "      <td>Medium</td>\n",
       "    </tr>\n",
       "    <tr>\n",
       "      <th>1</th>\n",
       "      <td>2020/11/29 12:29:28 PM GMT+5:30</td>\n",
       "      <td>dilandamendra@gmail.com</td>\n",
       "      <td>9477355542</td>\n",
       "      <td>NaN</td>\n",
       "      <td>2020-11-29</td>\n",
       "      <td>Male</td>\n",
       "      <td>35-45</td>\n",
       "      <td>Kotte</td>\n",
       "      <td>manufacturing</td>\n",
       "      <td>Degree</td>\n",
       "      <td>...</td>\n",
       "      <td>Payments</td>\n",
       "      <td>4.0</td>\n",
       "      <td>Daily –Several times</td>\n",
       "      <td>At the bank teller</td>\n",
       "      <td>Mass media (television, radio, newspaper)</td>\n",
       "      <td>7.0</td>\n",
       "      <td>Medium</td>\n",
       "      <td>Medium</td>\n",
       "      <td>Medium</td>\n",
       "      <td>Medium</td>\n",
       "    </tr>\n",
       "    <tr>\n",
       "      <th>2</th>\n",
       "      <td>2020/11/29 12:47:05 PM GMT+5:30</td>\n",
       "      <td>NaN</td>\n",
       "      <td>713404750</td>\n",
       "      <td>Chamithmdsn@gmail.com</td>\n",
       "      <td>1992-10-22</td>\n",
       "      <td>Male</td>\n",
       "      <td>25-35</td>\n",
       "      <td>Ratnapura</td>\n",
       "      <td>manufacturing</td>\n",
       "      <td>Degree</td>\n",
       "      <td>...</td>\n",
       "      <td>Utility payments</td>\n",
       "      <td>2.0</td>\n",
       "      <td>Daily –Several times</td>\n",
       "      <td>ATM</td>\n",
       "      <td>Mass media (television, radio, newspaper)</td>\n",
       "      <td>4.0</td>\n",
       "      <td>High</td>\n",
       "      <td>High</td>\n",
       "      <td>High</td>\n",
       "      <td>NaN</td>\n",
       "    </tr>\n",
       "  </tbody>\n",
       "</table>\n",
       "<p>3 rows × 25 columns</p>\n",
       "</div>"
      ],
      "text/plain": [
       "                         Timestamp                 Username  Mobile Number  \\\n",
       "0  2020/11/29 11:44:46 AM GMT+5:30     cmandawala@yahoo.com      702758536   \n",
       "1  2020/11/29 12:29:28 PM GMT+5:30  dilandamendra@gmail.com     9477355542   \n",
       "2  2020/11/29 12:47:05 PM GMT+5:30                      NaN      713404750   \n",
       "\n",
       "                   email   Birth day Gender agegroup     hometown  \\\n",
       "0                    NaN  2020-11-29   Male    25-35  Piliyandala   \n",
       "1                    NaN  2020-11-29   Male    35-45        Kotte   \n",
       "2  Chamithmdsn@gmail.com  1992-10-22   Male    25-35    Ratnapura   \n",
       "\n",
       "        industry Education  ...           tr-type convenenience  \\\n",
       "0  manufacturing    Degree  ...   Online shopping           4.0   \n",
       "1  manufacturing    Degree  ...         Payments            4.0   \n",
       "2  manufacturing    Degree  ...  Utility payments           2.0   \n",
       "\n",
       "              frequency          withdrawal  \\\n",
       "0          Monthly-once                 ATM   \n",
       "1  Daily –Several times  At the bank teller   \n",
       "2  Daily –Several times                 ATM   \n",
       "\n",
       "                                sourceofinfo knowledge  mobilephone     atm  \\\n",
       "0                              Bank directly       7.0         High  Medium   \n",
       "1  Mass media (television, radio, newspaper)       7.0       Medium  Medium   \n",
       "2  Mass media (television, radio, newspaper)       4.0         High    High   \n",
       "\n",
       "  internet     pos  \n",
       "0     High  Medium  \n",
       "1   Medium  Medium  \n",
       "2     High     NaN  \n",
       "\n",
       "[3 rows x 25 columns]"
      ]
     },
     "execution_count": 2,
     "metadata": {},
     "output_type": "execute_result"
    }
   ],
   "source": [
    "#Importing CSV \n",
    "url = 'https://raw.githubusercontent.com/Chanidul/SI-Project/main/finalresponse.csv'\n",
    "df  = pd.read_csv(url, error_bad_lines=False)\n",
    "df = df.rename(columns={\"Email Address\":\"email\",\"On a scale of 1 to 10(low to high), how would you rate your knowledge of all the banking services available ?\":\"knowledge\",\"Mention your Gender\":\"Gender\",\"What is your age group\":\"agegroup\",\"What type of a bank account do you have?\":\"acctype\",\"Mention your hometown\":\"hometown\",\"What is the industry are you employed/self employed\":\"industry\",\"What  is your current level of education?\":\"Education\",\"Do you use your cell phone for any financial/ banking transactions?\":\"usage\",\"What type of Mobile phone do you use\":\"mobiletype\",\"What type of Mobile Money transaction do you currently make?\":\"tr-type\",\"How convenient is the mobile money transferring compared to ordinary banking?\":\"Convenience\",\"How often do you make mobile transaction?\":\"frequency\",\"Where do you typically (most often) withdraw money?\":\"withdrawal\",\"Where did you hear about Mobile Money services?\":\"infomationsorce\",\"On a scale of 1 to 5 (low to high), how would you rate your knowledge of all the banking services available ?\":\"knowledge\",\"Who provides you Mobile banking/Financial service?\":\"serviceprovider\",\"Is your mobile banking service an addition to existing bank account or separate service?\":\"formofmobilebanking\",\"How convenient is the mobile money transferring compared to ordinary banking? \":\"convenenience\",\" Where did you hear about Mobile Money services?\":\"sourceofinfo\",\" Do you use your cell phone for any financial/ banking transactions?\":\"mobileusage\",\" On a scale of 1 to 5, 1 being the lowest and 5 being the highest, how would you rate your ability to use the following devices? [Mobile Phone]\":\"mobilephone\",\" On a scale of 1 to 5, 1 being the lowest and 5 being the highest, how would you rate your ability to use the following devices? [ATM machine]\":\"atm\",\" On a scale of 1 to 5, 1 being the lowest and 5 being the highest, how would you rate your ability to use the following devices? [Internet]\":\"internet\",\" On a scale of 1 to 5, 1 being the lowest and 5 being the highest, how would you rate your ability to use the following devices? [POS]\":\"pos\"})\n",
    "\n",
    "df.drop(columns={'Timestamp','Username','Mobile Number','email','Birth day'})\n",
    "df.head(3)\n"
   ]
  },
  {
   "cell_type": "code",
   "execution_count": 3,
   "metadata": {},
   "outputs": [
    {
     "data": {
      "text/html": [
       "<div>\n",
       "<style scoped>\n",
       "    .dataframe tbody tr th:only-of-type {\n",
       "        vertical-align: middle;\n",
       "    }\n",
       "\n",
       "    .dataframe tbody tr th {\n",
       "        vertical-align: top;\n",
       "    }\n",
       "\n",
       "    .dataframe thead th {\n",
       "        text-align: right;\n",
       "    }\n",
       "</style>\n",
       "<table border=\"1\" class=\"dataframe\">\n",
       "  <thead>\n",
       "    <tr style=\"text-align: right;\">\n",
       "      <th></th>\n",
       "      <th>Gender</th>\n",
       "      <th>agegroup</th>\n",
       "      <th>hometown</th>\n",
       "      <th>industry</th>\n",
       "      <th>Education</th>\n",
       "      <th>mobiletype</th>\n",
       "      <th>mobileusage</th>\n",
       "      <th>acctype</th>\n",
       "      <th>serviceprovider</th>\n",
       "      <th>formofmobilebanking</th>\n",
       "      <th>tr-type</th>\n",
       "      <th>convenenience</th>\n",
       "      <th>frequency</th>\n",
       "      <th>withdrawal</th>\n",
       "      <th>sourceofinfo</th>\n",
       "      <th>knowledge</th>\n",
       "      <th>mobilephone</th>\n",
       "      <th>atm</th>\n",
       "      <th>internet</th>\n",
       "      <th>pos</th>\n",
       "    </tr>\n",
       "  </thead>\n",
       "  <tbody>\n",
       "    <tr>\n",
       "      <th>0</th>\n",
       "      <td>Male</td>\n",
       "      <td>25-35</td>\n",
       "      <td>Piliyandala</td>\n",
       "      <td>manufacturing</td>\n",
       "      <td>Degree</td>\n",
       "      <td>Smart Phone</td>\n",
       "      <td>Yes</td>\n",
       "      <td>Savings Account</td>\n",
       "      <td>A bank</td>\n",
       "      <td>Yes</td>\n",
       "      <td>Online shopping</td>\n",
       "      <td>4.0</td>\n",
       "      <td>Monthly-once</td>\n",
       "      <td>ATM</td>\n",
       "      <td>Bank directly</td>\n",
       "      <td>7.0</td>\n",
       "      <td>High</td>\n",
       "      <td>Medium</td>\n",
       "      <td>High</td>\n",
       "      <td>Medium</td>\n",
       "    </tr>\n",
       "    <tr>\n",
       "      <th>1</th>\n",
       "      <td>Male</td>\n",
       "      <td>35-45</td>\n",
       "      <td>Kotte</td>\n",
       "      <td>manufacturing</td>\n",
       "      <td>Degree</td>\n",
       "      <td>Smart Phone</td>\n",
       "      <td>Yes</td>\n",
       "      <td>Savings Account;Current Account</td>\n",
       "      <td>A bank</td>\n",
       "      <td>No</td>\n",
       "      <td>Payments</td>\n",
       "      <td>4.0</td>\n",
       "      <td>Daily –Several times</td>\n",
       "      <td>At the bank teller</td>\n",
       "      <td>Mass media (television, radio, newspaper)</td>\n",
       "      <td>7.0</td>\n",
       "      <td>Medium</td>\n",
       "      <td>Medium</td>\n",
       "      <td>Medium</td>\n",
       "      <td>Medium</td>\n",
       "    </tr>\n",
       "    <tr>\n",
       "      <th>2</th>\n",
       "      <td>Male</td>\n",
       "      <td>25-35</td>\n",
       "      <td>Ratnapura</td>\n",
       "      <td>manufacturing</td>\n",
       "      <td>Degree</td>\n",
       "      <td>Smart Phone</td>\n",
       "      <td>Yes</td>\n",
       "      <td>Savings Account</td>\n",
       "      <td>A bank</td>\n",
       "      <td>Yes</td>\n",
       "      <td>Utility payments</td>\n",
       "      <td>2.0</td>\n",
       "      <td>Daily –Several times</td>\n",
       "      <td>ATM</td>\n",
       "      <td>Mass media (television, radio, newspaper)</td>\n",
       "      <td>4.0</td>\n",
       "      <td>High</td>\n",
       "      <td>High</td>\n",
       "      <td>High</td>\n",
       "      <td>NaN</td>\n",
       "    </tr>\n",
       "    <tr>\n",
       "      <th>3</th>\n",
       "      <td>Male</td>\n",
       "      <td>25-35</td>\n",
       "      <td>Baduraliya</td>\n",
       "      <td>manufacturing</td>\n",
       "      <td>Degree</td>\n",
       "      <td>Smart Phone</td>\n",
       "      <td>Yes</td>\n",
       "      <td>Savings Account</td>\n",
       "      <td>A bank</td>\n",
       "      <td>Yes</td>\n",
       "      <td>Loan payments</td>\n",
       "      <td>4.0</td>\n",
       "      <td>Monthly-several times</td>\n",
       "      <td>ATM</td>\n",
       "      <td>Friends or Family</td>\n",
       "      <td>5.0</td>\n",
       "      <td>High</td>\n",
       "      <td>High</td>\n",
       "      <td>High</td>\n",
       "      <td>NaN</td>\n",
       "    </tr>\n",
       "    <tr>\n",
       "      <th>4</th>\n",
       "      <td>Female</td>\n",
       "      <td>15-25</td>\n",
       "      <td>Homagama</td>\n",
       "      <td>manufacturing</td>\n",
       "      <td>Degree</td>\n",
       "      <td>Smart Phone</td>\n",
       "      <td>Yes</td>\n",
       "      <td>Savings Account</td>\n",
       "      <td>Bank and a Mobile operator</td>\n",
       "      <td>Yes</td>\n",
       "      <td>NaN</td>\n",
       "      <td>5.0</td>\n",
       "      <td>Daily –Several times</td>\n",
       "      <td>ATM</td>\n",
       "      <td>Bank directly</td>\n",
       "      <td>7.0</td>\n",
       "      <td>High</td>\n",
       "      <td>High</td>\n",
       "      <td>High</td>\n",
       "      <td>High</td>\n",
       "    </tr>\n",
       "  </tbody>\n",
       "</table>\n",
       "</div>"
      ],
      "text/plain": [
       "   Gender agegroup     hometown       industry Education   mobiletype  \\\n",
       "0    Male    25-35  Piliyandala  manufacturing    Degree  Smart Phone   \n",
       "1    Male    35-45        Kotte  manufacturing    Degree  Smart Phone   \n",
       "2    Male    25-35    Ratnapura  manufacturing    Degree  Smart Phone   \n",
       "3    Male    25-35   Baduraliya  manufacturing    Degree  Smart Phone   \n",
       "4  Female    15-25     Homagama  manufacturing    Degree  Smart Phone   \n",
       "\n",
       "  mobileusage                          acctype             serviceprovider  \\\n",
       "0         Yes                  Savings Account                      A bank   \n",
       "1         Yes  Savings Account;Current Account                      A bank   \n",
       "2         Yes                  Savings Account                      A bank   \n",
       "3         Yes                  Savings Account                      A bank   \n",
       "4         Yes                  Savings Account  Bank and a Mobile operator   \n",
       "\n",
       "  formofmobilebanking           tr-type  convenenience              frequency  \\\n",
       "0                 Yes   Online shopping            4.0           Monthly-once   \n",
       "1                  No         Payments             4.0   Daily –Several times   \n",
       "2                 Yes  Utility payments            2.0   Daily –Several times   \n",
       "3                 Yes     Loan payments            4.0  Monthly-several times   \n",
       "4                 Yes               NaN            5.0   Daily –Several times   \n",
       "\n",
       "           withdrawal                               sourceofinfo  knowledge  \\\n",
       "0                 ATM                              Bank directly        7.0   \n",
       "1  At the bank teller  Mass media (television, radio, newspaper)        7.0   \n",
       "2                 ATM  Mass media (television, radio, newspaper)        4.0   \n",
       "3                 ATM                          Friends or Family        5.0   \n",
       "4                 ATM                              Bank directly        7.0   \n",
       "\n",
       "  mobilephone     atm internet     pos  \n",
       "0        High  Medium     High  Medium  \n",
       "1      Medium  Medium   Medium  Medium  \n",
       "2        High    High     High     NaN  \n",
       "3        High    High     High     NaN  \n",
       "4        High    High     High    High  "
      ]
     },
     "execution_count": 3,
     "metadata": {},
     "output_type": "execute_result"
    }
   ],
   "source": [
    "#selecting significant attributes\n",
    "useful_columns = [\"Gender\",\"agegroup\",\"hometown\",\"industry\",\"Education\",\"mobiletype\",\"mobileusage\",\"acctype\",\"serviceprovider\", \"formofmobilebanking\",\"tr-type\",\"convenenience\",\"frequency\",\"withdrawal\",\"sourceofinfo\",\"knowledge\",\"mobilephone\",\"atm\",\"internet\",\"pos\"]\n",
    "df_use = df[useful_columns]\n",
    "df_use.head(5)\n",
    "\n",
    "\n",
    "\n"
   ]
  },
  {
   "cell_type": "code",
   "execution_count": 4,
   "metadata": {},
   "outputs": [
    {
     "name": "stdout",
     "output_type": "stream",
     "text": [
      "<class 'pandas.core.frame.DataFrame'>\n",
      "RangeIndex: 46 entries, 0 to 45\n",
      "Data columns (total 20 columns):\n",
      " #   Column               Non-Null Count  Dtype  \n",
      "---  ------               --------------  -----  \n",
      " 0   Gender               46 non-null     object \n",
      " 1   agegroup             46 non-null     object \n",
      " 2   hometown             46 non-null     object \n",
      " 3   industry             46 non-null     object \n",
      " 4   Education            46 non-null     object \n",
      " 5   mobiletype           46 non-null     object \n",
      " 6   mobileusage          46 non-null     object \n",
      " 7   acctype              46 non-null     object \n",
      " 8   serviceprovider      46 non-null     object \n",
      " 9   formofmobilebanking  42 non-null     object \n",
      " 10  tr-type              27 non-null     object \n",
      " 11  convenenience        44 non-null     float64\n",
      " 12  frequency            43 non-null     object \n",
      " 13  withdrawal           45 non-null     object \n",
      " 14  sourceofinfo         42 non-null     object \n",
      " 15  knowledge            45 non-null     float64\n",
      " 16  mobilephone          44 non-null     object \n",
      " 17  atm                  45 non-null     object \n",
      " 18  internet             45 non-null     object \n",
      " 19  pos                  39 non-null     object \n",
      "dtypes: float64(2), object(18)\n",
      "memory usage: 7.3+ KB\n"
     ]
    }
   ],
   "source": [
    "#data cleasing\n",
    "df_use.info()\n",
    "\n"
   ]
  },
  {
   "cell_type": "code",
   "execution_count": 5,
   "metadata": {},
   "outputs": [
    {
     "name": "stdout",
     "output_type": "stream",
     "text": [
      "Male      31\n",
      "Female    15\n",
      "Name: Gender, dtype: int64\n"
     ]
    },
    {
     "data": {
      "text/plain": [
       "([<matplotlib.patches.Wedge at 0x7fca3eeda550>,\n",
       "  <matplotlib.patches.Wedge at 0x7fca3eedac40>],\n",
       " [Text(-0.571542398601862, 0.9398613124288235, 'Male'),\n",
       "  Text(0.5715424865980261, -0.9398612589171581, 'Female')],\n",
       " [Text(-0.3117503992373792, 0.5126516249611764, '67.4%'),\n",
       "  Text(0.3117504472352869, -0.5126515957729952, '32.6%')])"
      ]
     },
     "execution_count": 5,
     "metadata": {},
     "output_type": "execute_result"
    },
    {
     "data": {
      "image/png": "[encoded data removed]",
      "text/plain": [
       "<Figure size 432x288 with 1 Axes>"
      ]
     },
     "metadata": {},
     "output_type": "display_data"
    }
   ],
   "source": [
    "#Discriptive analysis based on Gender\n",
    "\n",
    "Gen = pd.value_counts(df_use['Gender'])\n",
    "print(Gen)\n",
    "data_val=[]\n",
    "for i in Gen:\n",
    "    data_val.append(i)\n",
    "\n",
    "label= df_use.Gender.unique()\n",
    "plt.pie(x=data_val,labels = label,autopct ='%1.1f%%')   "
   ]
  },
  {
   "cell_type": "code",
   "execution_count": 6,
   "metadata": {},
   "outputs": [
    {
     "name": "stdout",
     "output_type": "stream",
     "text": [
      "Manufacturing        14\n",
      "Education             8\n",
      "IT Solutions          8\n",
      "Construction          6\n",
      "Banking & Finance     4\n",
      "Retail                2\n",
      "Consumer food         1\n",
      "Engineering           1\n",
      "Nursing               1\n",
      "Housewife             1\n",
      "Name: industry, dtype: int64\n"
     ]
    },
    {
     "data": {
      "text/plain": [
       "<BarContainer object of 10 artists>"
      ]
     },
     "execution_count": 6,
     "metadata": {},
     "output_type": "execute_result"
    },
    {
     "data": {
      "image/png": "[encoded data removed]",
      "text/plain": [
       "<Figure size 432x288 with 1 Axes>"
      ]
     },
     "metadata": {
      "needs_background": "light"
     },
     "output_type": "display_data"
    }
   ],
   "source": [
    "#Discriptive analysis based on Industry employed.\n",
    "\n",
    "#data clensing & replaceing the duplicate entries\n",
    "df_use = df_use.replace({'industry':{\"IT\":\"IT Solutions\",\"manufacturing\":\"Manufacturing\",\"IT solutions\":\"IT Solutions\",}})\n",
    "\n",
    "Ind = pd.value_counts(df_use['industry'])\n",
    "print(Ind)\n",
    "\n",
    "data_val2=[]\n",
    "for i in Ind:\n",
    "    data_val2.append(i)\n",
    "\n",
    "label2= df_use.industry.unique()\n",
    "\n",
    "plt.barh(label2 ,data_val2 ,align='edge')\n",
    "\n",
    "\n"
   ]
  },
  {
   "cell_type": "code",
   "execution_count": 7,
   "metadata": {},
   "outputs": [
    {
     "name": "stdout",
     "output_type": "stream",
     "text": [
      "Degree     36\n",
      "AL          6\n",
      "Diploma     4\n",
      "Name: Education, dtype: int64\n"
     ]
    },
    {
     "data": {
      "text/plain": [
       "([<matplotlib.patches.Wedge at 0x7fca3cd38580>,\n",
       "  <matplotlib.patches.Wedge at 0x7fca3cd38c70>,\n",
       "  <matplotlib.patches.Wedge at 0x7fca3cd46310>],\n",
       " [Text(-0.8532824028195425, 0.6941967595995449, 'Degree'),\n",
       "  Text(0.6343483067693764, -0.8986669158808648, 'Diploma'),\n",
       "  Text(1.059209000679349, -0.2967765032475699, 'AL')],\n",
       " [Text(-0.4654267651742958, 0.37865277796338803, '78.3%'),\n",
       "  Text(0.34600816732875067, -0.4901819541168353, '13.0%'),\n",
       "  Text(0.5777503640069176, -0.16187809268049266, '8.7%')])"
      ]
     },
     "execution_count": 7,
     "metadata": {},
     "output_type": "execute_result"
    },
    {
     "data": {
      "image/png": "[encoded data removed]",
      "text/plain": [
       "<Figure size 432x288 with 1 Axes>"
      ]
     },
     "metadata": {},
     "output_type": "display_data"
    }
   ],
   "source": [
    "#Discriptive analysis based on Level of Education\n",
    "\n",
    "Edu = pd.value_counts(df_use['Education'])\n",
    "print(Edu)\n",
    "data_val3=[]\n",
    "for i in Edu:\n",
    "    data_val3.append(i)\n",
    "\n",
    "label3= df_use.Education.unique()\n",
    "plt.pie(x=data_val3,labels = label3,autopct ='%1.1f%%')"
   ]
  },
  {
   "cell_type": "code",
   "execution_count": 8,
   "metadata": {},
   "outputs": [
    {
     "name": "stdout",
     "output_type": "stream",
     "text": [
      "Savings Account                                       34\n",
      "Savings Account;Current Account                        6\n",
      "Savings Account;Investment Account                     4\n",
      "Savings Account;Current Account;Investment Account     2\n",
      "Name: acctype, dtype: int64\n"
     ]
    },
    {
     "data": {
      "text/plain": [
       "([<matplotlib.patches.Wedge at 0x7fca3cd04dc0>,\n",
       "  <matplotlib.patches.Wedge at 0x7fca3cd11460>,\n",
       "  <matplotlib.patches.Wedge at 0x7fca3cd11af0>,\n",
       "  <matplotlib.patches.Wedge at 0x7fca3cc9f1c0>],\n",
       " [Text(-0.7508084640855961, 0.8039195545932617, 'Savings Account'),\n",
       "  Text(0.3683675860458568, -1.0364870098321293, 'Savings Account;Current Account'),\n",
       "  Text(0.9398613525625671, -0.5715423326047355, 'Savings Account;Current Account;Investment Account'),\n",
       "  Text(1.0897545437648157, -0.14978329127088505, 'Savings Account;Investment Account')],\n",
       " [Text(-0.4095318895012342, 0.4385015752326881, '73.9%'),\n",
       "  Text(0.20092777420683094, -0.565356550817525, '13.0%'),\n",
       "  Text(0.5126516468523092, -0.3117503632389466, '8.7%'),\n",
       "  Text(0.594411569326263, -0.08169997705684638, '4.3%')])"
      ]
     },
     "execution_count": 8,
     "metadata": {},
     "output_type": "execute_result"
    },
    {
     "data": {
      "image/png": "[encoded data removed]",
      "text/plain": [
       "<Figure size 432x288 with 1 Axes>"
      ]
     },
     "metadata": {},
     "output_type": "display_data"
    }
   ],
   "source": [
    "#Discriptive analysis based on Type of Account Using\n",
    "\n",
    "Acc = pd.value_counts(df_use['acctype'])\n",
    "print(Acc)\n",
    "data_val4=[]\n",
    "for i in Acc:\n",
    "    data_val4.append(i)\n",
    "\n",
    "label4 = df_use.acctype.unique()\n",
    "plt.pie(x=data_val4,labels = label4,autopct ='%1.1f%%') "
   ]
  },
  {
   "cell_type": "code",
   "execution_count": 9,
   "metadata": {},
   "outputs": [
    {
     "name": "stdout",
     "output_type": "stream",
     "text": [
      "Using for Banking        39\n",
      "Not using for banking     5\n",
      "May be using              2\n",
      "Name: mobileusage, dtype: int64\n"
     ]
    },
    {
     "data": {
      "text/plain": [
       "([<matplotlib.patches.Wedge at 0x7fca3ccdc0d0>,\n",
       "  <matplotlib.patches.Wedge at 0x7fca3ccdc850>,\n",
       "  <matplotlib.patches.Wedge at 0x7fca3ccdcee0>],\n",
       " [Text(-0.9766737031611723, 0.5060716130681927, 'Using for Banking'),\n",
       "  Text(0.898666782248901, -0.6343484960827185, 'Not using for banking'),\n",
       "  Text(1.089754515717349, -0.14978349533125015, 'May be using')],\n",
       " [Text(-0.5327311108151849, 0.2760390616735596, '84.8%'),\n",
       "  Text(0.49018188122667317, -0.34600827059057365, '10.9%'),\n",
       "  Text(0.5944115540276448, -0.08170008836250008, '4.3%')])"
      ]
     },
     "execution_count": 9,
     "metadata": {},
     "output_type": "execute_result"
    },
    {
     "data": {
      "image/png": "[encoded data removed]",
      "text/plain": [
       "<Figure size 432x288 with 1 Axes>"
      ]
     },
     "metadata": {},
     "output_type": "display_data"
    }
   ],
   "source": [
    "#Discriptive analysis based on usage of mobile phones for banking activites\n",
    "\n",
    "df_use = df_use.replace({'mobileusage':{\"Yes\":\"Using for Banking\",\"No\":\"Not using for banking\",\"Maybe\":\"May be using\",}})\n",
    "Muse = pd.value_counts(df_use['mobileusage'])\n",
    "print(Muse)\n",
    "data_val5=[]\n",
    "for i in Muse:\n",
    "    data_val5.append(i)\n",
    "\n",
    "label5 = df_use.mobileusage.unique()\n",
    "plt.pie(x=data_val5,labels = label5,autopct ='%1.1f%%') \n",
    "\n"
   ]
  },
  {
   "cell_type": "code",
   "execution_count": 10,
   "metadata": {},
   "outputs": [
    {
     "name": "stdout",
     "output_type": "stream",
     "text": [
      "Mon Sev                  22\n",
      "Weekly-Once               7\n",
      "Monthly-once              4\n",
      "Daily-once                4\n",
      "Daily Sev                 3\n",
      "No Answer                 3\n",
      "Once daily& Weekly        2\n",
      "Weekly Once Month Sev     1\n",
      "Name: frequency, dtype: int64\n"
     ]
    },
    {
     "data": {
      "text/plain": [
       "<BarContainer object of 8 artists>"
      ]
     },
     "execution_count": 10,
     "metadata": {},
     "output_type": "execute_result"
    },
    {
     "data": {
      "image/png": "[encoded data removed]",
      "text/plain": [
       "<Figure size 432x288 with 1 Axes>"
      ]
     },
     "metadata": {
      "needs_background": "light"
     },
     "output_type": "display_data"
    }
   ],
   "source": [
    "#Discriptive analysis based on frequency of usage\n",
    "\n",
    "df_use = df_use.replace({'frequency':{\"Weekly-Once;Monthly-several times\":\"Weekly Once Month Sev\",\"Daily –Several times\":\"Daily Sev\",\"Monthly-several times\":\"Mon Sev\",\"Daily –Several times \":\"Daily Sev\",\"Daily-once;Weekly-Once\":\"Once daily& Weekly\",}})\n",
    "df_use['frequency'] = df_use['frequency'].fillna(\"No Answer\")\n",
    "\n",
    "\n",
    "Freq = pd.value_counts(df_use['frequency'])\n",
    "print(Freq)\n",
    "\n",
    "data_val6=[]\n",
    "\n",
    "for i in Freq:\n",
    "    data_val6.append(i)\n",
    "label6 = df_use.frequency.unique()\n",
    "\n",
    "plt.barh(label6 ,data_val6 ,align='edge')\n"
   ]
  },
  {
   "cell_type": "code",
   "execution_count": 11,
   "metadata": {},
   "outputs": [
    {
     "name": "stdout",
     "output_type": "stream",
     "text": [
      "Exceptional          27\n",
      "Above Expected       12\n",
      "Expected              3\n",
      "Below Expectation     2\n",
      "No Answer             2\n",
      "Name: convenenience, dtype: int64\n"
     ]
    },
    {
     "data": {
      "text/plain": [
       "<BarContainer object of 5 artists>"
      ]
     },
     "execution_count": 11,
     "metadata": {},
     "output_type": "execute_result"
    },
    {
     "data": {
      "image/png": "[encoded data removed]",
      "text/plain": [
       "<Figure size 432x288 with 1 Axes>"
      ]
     },
     "metadata": {
      "needs_background": "light"
     },
     "output_type": "display_data"
    }
   ],
   "source": [
    "#Discriptive analysis based on user satisfaction\n",
    "\n",
    "df_use = df_use.replace({'convenenience':\n",
    "                         { 2.0:\"Below Expectation\",3.0:\"Expected\",4.0:\"Above Expected\",5.0:\"Exceptional\"}})\n",
    "\n",
    "df_use['convenenience'] = df_use['convenenience'].fillna(\"No Answer\")\n",
    "\n",
    "Con = pd.value_counts(df_use['convenenience'])\n",
    "print(Con)\n",
    "\n",
    "data_val7=[]\n",
    "\n",
    "for i in Con:\n",
    "    data_val7.append(i)\n",
    "    \n",
    "label7 = df_use.convenenience.unique()\n",
    "\n",
    "plt.bar(x= label7 ,height = data_val7 ,width = 0.8, align='center')\n",
    "    \n",
    "\n"
   ]
  },
  {
   "cell_type": "code",
   "execution_count": 12,
   "metadata": {},
   "outputs": [
    {
     "name": "stdout",
     "output_type": "stream",
     "text": [
      "A bank                        41\n",
      "Don’t know / not sure          3\n",
      "Bank and a Mobile operator     2\n",
      "Name: serviceprovider, dtype: int64\n"
     ]
    },
    {
     "data": {
      "text/plain": [
       "([<matplotlib.patches.Wedge at 0x7fca3cb67c70>,\n",
       "  <matplotlib.patches.Wedge at 0x7fca3cb74310>,\n",
       "  <matplotlib.patches.Wedge at 0x7fca3cb749a0>],\n",
       " [Text(-0.9766737031611723, 0.5060716130681927, 'A bank'),\n",
       "  Text(0.898666782248901, -0.6343484960827185, 'Bank and a Mobile operator'),\n",
       "  Text(1.089754515717349, -0.14978349533125015, 'Don’t know / not sure')],\n",
       " [Text(-0.5327311108151849, 0.2760390616735596, '84.8%'),\n",
       "  Text(0.49018188122667317, -0.34600827059057365, '10.9%'),\n",
       "  Text(0.5944115540276448, -0.08170008836250008, '4.3%')])"
      ]
     },
     "execution_count": 12,
     "metadata": {},
     "output_type": "execute_result"
    },
    {
     "data": {
      "image/png": "[encoded data removed]",
      "text/plain": [
       "<Figure size 432x288 with 1 Axes>"
      ]
     },
     "metadata": {},
     "output_type": "display_data"
    }
   ],
   "source": [
    "#Discriptive analysis based on Mobile Banking Provider\n",
    "\n",
    "\n",
    "SP = pd.value_counts(df_use['serviceprovider'])\n",
    "print(SP)\n",
    "data_val8=[]\n",
    "for i in Muse:\n",
    "    data_val8.append(i)\n",
    "\n",
    "label8 = df_use.serviceprovider.unique()\n",
    "\n",
    "plt.pie(x=data_val8,labels = label8,autopct ='%1.1f%%') "
   ]
  },
  {
   "cell_type": "code",
   "execution_count": 13,
   "metadata": {},
   "outputs": [
    {
     "name": "stdout",
     "output_type": "stream",
     "text": [
      "ATM          40\n",
      "Bank          3\n",
      "POS           2\n",
      "No Answer     1\n",
      "Name: withdrawal, dtype: int64\n"
     ]
    },
    {
     "data": {
      "text/plain": [
       "([<matplotlib.patches.Wedge at 0x7fca3ccb30d0>,\n",
       "  <matplotlib.patches.Wedge at 0x7fca3ccb3a00>,\n",
       "  <matplotlib.patches.Wedge at 0x7fca3ccb3070>,\n",
       "  <matplotlib.patches.Wedge at 0x7fca3cc7b400>],\n",
       " [Text(-1.008932392408853, 0.43824128918684574, 'ATM'),\n",
       "  Text(0.8986667674009027, -0.6343485171175323, 'Bank'),\n",
       "  Text(1.0592089624732857, -0.29677663960673517, 'POS'),\n",
       "  Text(1.0974356328361194, -0.07506684875220211, 'No Answer')],\n",
       " [Text(-0.550326759495738, 0.23904070319282492, '87.0%'),\n",
       "  Text(0.49018187312776507, -0.34600828206410844, '6.5%'),\n",
       "  Text(0.5777503431672466, -0.16187816705821917, '4.3%'),\n",
       "  Text(0.5986012542742469, -0.04094555386483751, '2.2%')])"
      ]
     },
     "execution_count": 13,
     "metadata": {},
     "output_type": "execute_result"
    },
    {
     "data": {
      "image/png": "[encoded data removed]",
      "text/plain": [
       "<Figure size 432x288 with 1 Axes>"
      ]
     },
     "metadata": {},
     "output_type": "display_data"
    }
   ],
   "source": [
    "#Discriptive analysis based on Method of Money Withdrawal Method\n",
    "\n",
    "df_use = df_use.replace({'withdrawal':{\"At the bank teller\":\"Bank\",\"Point of Sale\":\"POS\"}})\n",
    "df_use['withdrawal'] = df_use['withdrawal'].fillna(\"No Answer\")\n",
    "\n",
    "\n",
    "WD = pd.value_counts(df_use['withdrawal'])\n",
    "\n",
    "print(WD)\n",
    "data_val9=[]\n",
    "for i in WD:\n",
    "  data_val9.append(i)\n",
    "\n",
    "label9 = df_use.withdrawal.unique()\n",
    "\n",
    "plt.pie(x=data_val9,labels = label9,autopct ='%1.1f%%') \n",
    "\n"
   ]
  },
  {
   "cell_type": "code",
   "execution_count": 14,
   "metadata": {},
   "outputs": [
    {
     "name": "stdout",
     "output_type": "stream",
     "text": [
      "Mass Media           17\n",
      "Bank directly        16\n",
      "Friends or Family     8\n",
      "No Answer             4\n",
      "Mobile Operator       1\n",
      "Name: sourceofinfo, dtype: int64\n"
     ]
    },
    {
     "data": {
      "text/plain": [
       "([<matplotlib.patches.Wedge at 0x7fca3caf3460>,\n",
       "  <matplotlib.patches.Wedge at 0x7fca3caf3b50>,\n",
       "  <matplotlib.patches.Wedge at 0x7fca3cb00220>,\n",
       "  <matplotlib.patches.Wedge at 0x7fca3cb008b0>,\n",
       "  <matplotlib.patches.Wedge at 0x7fca3cb00f40>],\n",
       " [Text(0.4382411947237756, 1.0089324334399594, 'Bank directly'),\n",
       "  Text(-1.0592090076259044, -0.2967764784549932, 'Mass Media'),\n",
       "  Text(0.36836763456731464, -1.036486992587597, 'Friends or Family'),\n",
       "  Text(1.008932464213283, -0.43824112387647085, 'No Answer'),\n",
       "  Text(1.0974356521638136, -0.07506656619151622, 'Mobile Operator')],\n",
       " [Text(0.23904065166751393, 0.5503267818763414, '37.0%'),\n",
       "  Text(-0.5777503677959478, -0.161878079157269, '34.8%'),\n",
       "  Text(0.2009278006730807, -0.5653565414114166, '17.4%'),\n",
       "  Text(0.5503267986617907, -0.23904061302352952, '8.7%'),\n",
       "  Text(0.5986012648166256, -0.040945399740827025, '2.2%')])"
      ]
     },
     "execution_count": 14,
     "metadata": {},
     "output_type": "execute_result"
    },
    {
     "data": {
      "image/png": "[encoded data removed]",
      "text/plain": [
       "<Figure size 432x288 with 1 Axes>"
      ]
     },
     "metadata": {},
     "output_type": "display_data"
    }
   ],
   "source": [
    "#Discriptive analysis based on How they know about Mobile banking\n",
    "\n",
    "\n",
    "df_use = df_use.replace({'sourceofinfo':{\"Mass media (television, radio, newspaper)\":\"Mass Media\",\"SMS from Mobile Operator\":\"Mobile Operator\"}})\n",
    "\n",
    "df_use['sourceofinfo'] = df_use['sourceofinfo'].fillna(\"No Answer\")\n",
    "\n",
    "\n",
    "SI = pd.value_counts(df_use['sourceofinfo'])\n",
    "\n",
    "print(SI)\n",
    "data_val10=[]\n",
    "for i in SI:\n",
    "  data_val10.append(i)\n",
    "\n",
    "label10 = df_use.sourceofinfo.unique()\n",
    "\n",
    "plt.pie(x=data_val10,labels = label10,autopct ='%1.1f%%') \n"
   ]
  },
  {
   "cell_type": "code",
   "execution_count": 15,
   "metadata": {},
   "outputs": [
    {
     "name": "stdout",
     "output_type": "stream",
     "text": [
      "8.0     10\n",
      "7.0     10\n",
      "5.0      8\n",
      "9.0      7\n",
      "3.0      4\n",
      "10.0     2\n",
      "6.0      2\n",
      "4.0      2\n",
      "0.0      1\n",
      "Name: knowledge, dtype: int64\n",
      "<class 'numpy.ndarray'> <class 'list'> 9 9\n"
     ]
    },
    {
     "data": {
      "image/png": "[encoded data removed]",
      "text/plain": [
       "<Figure size 432x288 with 1 Axes>"
      ]
     },
     "metadata": {
      "needs_background": "light"
     },
     "output_type": "display_data"
    }
   ],
   "source": [
    "#Discriptive analysis based on knowledge\n",
    "\n",
    "#df_use = df_use.replace({'knowledge':{ 3.0:\"3\",4.0:\"4\",5.0:\"5\",6.0:\"6\",8.0:\"8\",7.0:\"7\",9.0:\"9\",10.0:\"10\"}})\n",
    "\n",
    "df_use['knowledge'] = df_use['knowledge'].fillna(0)\n",
    "\n",
    "Knw = pd.value_counts(df_use['knowledge'])\n",
    "print(Knw)\n",
    "\n",
    "data_val11=[]\n",
    "\n",
    "for i in Knw:\n",
    "    data_val11.append(i)\n",
    "    \n",
    "label11 = df_use.knowledge.unique()\n",
    "\n",
    "\n",
    "plt.bar(x= label11 ,height = data_val11 ,width = 0.8, align='center')\n",
    "plt.xticks(label11)\n",
    "print(type(label11),type(data_val11),len(label11),len(data_val11))\n",
    "\n",
    "\n",
    "    "
   ]
  },
  {
   "cell_type": "code",
   "execution_count": 16,
   "metadata": {},
   "outputs": [
    {
     "name": "stdout",
     "output_type": "stream",
     "text": [
      "High         33\n",
      "Medium       11\n",
      "Low           1\n",
      "No Answer     1\n",
      "Name: atm, dtype: int64\n",
      "High         32\n",
      "Medium       12\n",
      "No Answer     2\n",
      "Name: internet, dtype: int64\n",
      "Medium       19\n",
      "High         14\n",
      "No Answer     8\n",
      "Low           5\n",
      "Name: pos, dtype: int64\n"
     ]
    },
    {
     "data": {
      "text/plain": [
       "<BarContainer object of 4 artists>"
      ]
     },
     "execution_count": 16,
     "metadata": {},
     "output_type": "execute_result"
    },
    {
     "data": {
      "image/png": "[encoded data removed]",
      "text/plain": [
       "<Figure size 432x288 with 1 Axes>"
      ]
     },
     "metadata": {
      "needs_background": "light"
     },
     "output_type": "display_data"
    }
   ],
   "source": [
    "#Discriptive analysis based on knowledge on specific equipment\n",
    "\n",
    "df_use = df_use.replace({'internet':{ \"Medium;High\":\"No Answer\"}})\n",
    "\n",
    "df_use = df_use.replace({'pos':{\"Medium;High\":\"No Answer\"}})\n",
    "\n",
    "\n",
    "df_use['atm'] = df_use['atm'].fillna(\"No Answer\")\n",
    "df_use['internet'] = df_use['internet'].fillna(\"No Answer\")\n",
    "df_use['pos'] = df_use['pos'].fillna(\"No Answer\")\n",
    "\n",
    "\n",
    "atm = pd.value_counts(df_use['atm'])\n",
    "print(atm)\n",
    "\n",
    "data_atm=[]\n",
    "\n",
    "for i in atm:\n",
    "    data_atm.append(i)\n",
    "    \n",
    "label_atm = df_use.atm.unique()\n",
    "\n",
    "internet = pd.value_counts(df_use['internet'])\n",
    "print(internet)\n",
    "\n",
    "data_internet=[]\n",
    "\n",
    "for i in internet:\n",
    "    data_internet.append(i)\n",
    "    \n",
    "label_internet = df_use.internet.unique()\n",
    "\n",
    "\n",
    "pos = pd.value_counts(df_use['pos'])\n",
    "print(pos)\n",
    "\n",
    "data_pos=[]\n",
    "\n",
    "for i in pos:\n",
    "    data_pos.append(i)\n",
    "    \n",
    "label_pos = df_use.pos.unique()\n",
    "\n",
    "plt.bar(label_pos,data_pos)"
   ]
  },
  {
   "cell_type": "code",
   "execution_count": 17,
   "metadata": {},
   "outputs": [
    {
     "data": {
      "text/plain": [
       "<BarContainer object of 4 artists>"
      ]
     },
     "execution_count": 17,
     "metadata": {},
     "output_type": "execute_result"
    },
    {
     "data": {
      "image/png": "[encoded data removed]",
      "text/plain": [
       "<Figure size 432x288 with 1 Axes>"
      ]
     },
     "metadata": {
      "needs_background": "light"
     },
     "output_type": "display_data"
    }
   ],
   "source": [
    "plt.bar(label_atm,data_atm)\n"
   ]
  },
  {
   "cell_type": "code",
   "execution_count": 18,
   "metadata": {},
   "outputs": [
    {
     "data": {
      "text/plain": [
       "<BarContainer object of 3 artists>"
      ]
     },
     "execution_count": 18,
     "metadata": {},
     "output_type": "execute_result"
    },
    {
     "data": {
      "image/png": "[encoded data removed]",
      "text/plain": [
       "<Figure size 432x288 with 1 Axes>"
      ]
     },
     "metadata": {
      "needs_background": "light"
     },
     "output_type": "display_data"
    }
   ],
   "source": [
    "plt.bar(label_internet,data_internet)"
   ]
  },
  {
   "cell_type": "code",
   "execution_count": 19,
   "metadata": {},
   "outputs": [],
   "source": [
    "#Hypothesis Testing \n",
    "import statsmodels.api as sn\n",
    "from scipy import stats"
   ]
  },
  {
   "cell_type": "code",
   "execution_count": 20,
   "metadata": {},
   "outputs": [
    {
     "name": "stdout",
     "output_type": "stream",
     "text": [
      "There are 46 rows and 20 columns\n"
     ]
    }
   ],
   "source": [
    "df_use.head()\n",
    "print(\"There are {} rows and {} columns\".format(df_use.shape[0],df_use.shape[1]))\n"
   ]
  },
  {
   "cell_type": "code",
   "execution_count": 21,
   "metadata": {},
   "outputs": [
    {
     "name": "stdout",
     "output_type": "stream",
     "text": [
      "19 27 0.41304347826086957\n"
     ]
    }
   ],
   "source": [
    "high_competant = (df_use['knowledge']) > 7\n",
    "# print(high_competent)\n",
    "df_use1 = df_use[high_competant]\n",
    "#print(df_use1)\n",
    "df_use2 = df_use[~df_use.index.isin(df_use1.index)]\n",
    "#print(df_use1['knowledge'])\n",
    "#count of high knowledge\n",
    "hi =df_use1['knowledge'].count()\n",
    "#count of low knowledge\n",
    "lo =df_use2['knowledge'].count()\n",
    "#total count\n",
    "tot =df_use['knowledge'].count()\n",
    "#proportion of high knowlege count in the sample\n",
    "phi = hi/tot\n",
    "print(hi,lo,phi)"
   ]
  },
  {
   "cell_type": "code",
   "execution_count": 22,
   "metadata": {},
   "outputs": [
    {
     "name": "stdout",
     "output_type": "stream",
     "text": [
      "31 15 0.6739130434782609\n"
     ]
    }
   ],
   "source": [
    "group2535 = (df_use['agegroup']) == '25-35'\n",
    "#print(group2535)\n",
    "df_use3 = df_use[group2535]\n",
    "#print(df_use3)\n",
    "df_use4 = df_use[~df_use.index.isin(df_use3.index)]\n",
    "#print(df_use4)\n",
    "\n",
    "#count of people in age group 25-35\n",
    "group1 = df_use3['agegroup'].count()\n",
    "#count of people not in 25-35 age group\n",
    "group2 = df_use4['agegroup'].count()\n",
    "#total count\n",
    "tot1 =df_use['agegroup'].count()\n",
    "#proportion of 25-35 from sample\n",
    "age2535 = group1/tot1\n",
    "print(group1,group2,age2535)"
   ]
  },
  {
   "cell_type": "code",
   "execution_count": 24,
   "metadata": {},
   "outputs": [
    {
     "name": "stdout",
     "output_type": "stream",
     "text": [
      "8.023642753056863e-05\n"
     ]
    }
   ],
   "source": [
    "from scipy import stats as st\n",
    "#HYPHOTESIS TEST OF SURVEY DATA\n",
    "#Check whether 25-35 group has the highest know-how on mobile banking \n",
    "\n",
    "SE = math.sqrt(((1-age2535)*age2535)/46)\n",
    "Z = (phi-age2535)/SE\n",
    "\n",
    "p_value = st.norm.sf(abs(Z))\n",
    "print(p_value)\n",
    "\n",
    "#Since nP0 >10 &    n(1-P0 ) > 10 P value is estimated in Z distribution\n",
    "\n",
    "\n",
    "#P1\tProportion of sample between 25-35  that has above expected knowledge in mobile \tbanking\n",
    "#P2\tProportion of sample between doesn’t belong to 25-35  that has above average \tknowledge in mobile banking\n",
    "\n",
    "#significance level is 0.05\n",
    "\n"
   ]
  },
  {
   "cell_type": "code",
   "execution_count": null,
   "metadata": {},
   "outputs": [],
   "source": [
    "#Since P value is << than significance level 0.05 null hypothesis can be rejected and can be determined that age group between 25-35 has highest know how on mobile banking\n"
   ]
  },
  {
   "cell_type": "code",
   "execution_count": null,
   "metadata": {},
   "outputs": [],
   "source": []
  },
  {
   "cell_type": "code",
   "execution_count": null,
   "metadata": {},
   "outputs": [],
   "source": []
  },
  {
   "cell_type": "code",
   "execution_count": null,
   "metadata": {},
   "outputs": [],
   "source": []
  },
  {
   "cell_type": "code",
   "execution_count": null,
   "metadata": {},
   "outputs": [],
   "source": []
  },
  {
   "cell_type": "code",
   "execution_count": null,
   "metadata": {},
   "outputs": [],
   "source": []
  },
  {
   "cell_type": "code",
   "execution_count": null,
   "metadata": {},
   "outputs": [],
   "source": []
  },
  {
   "cell_type": "code",
   "execution_count": null,
   "metadata": {},
   "outputs": [],
   "source": []
  },
  {
   "cell_type": "code",
   "execution_count": null,
   "metadata": {},
   "outputs": [],
   "source": []
  },
  {
   "cell_type": "code",
   "execution_count": null,
   "metadata": {},
   "outputs": [],
   "source": []
  }
 ],
 "metadata": {
  "kernelspec": {
   "display_name": "Python 3",
   "language": "python",
   "name": "python3"
  },
  "language_info": {
   "codemirror_mode": {
    "name": "ipython",
    "version": 3
   },
   "file_extension": ".py",
   "mimetype": "text/x-python",
   "name": "python",
   "nbconvert_exporter": "python",
   "pygments_lexer": "ipython3",
   "version": "3.8.5"
  }
 },
 "nbformat": 4,
 "nbformat_minor": 4
}
